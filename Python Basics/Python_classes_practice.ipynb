{
 "cells": [
  {
   "cell_type": "code",
   "execution_count": 4,
   "metadata": {},
   "outputs": [
    {
     "name": "stdout",
     "output_type": "stream",
     "text": [
      "this is class\n",
      "My class string how are you ?\n",
      "this is class\n",
      "this is second class\n",
      "second method for inherited class \n"
     ]
    }
   ],
   "source": [
    "# Working with classes\n",
    "\n",
    "class myClass():\n",
    "    \n",
    "    def method1(self):\n",
    "        print(\"this is class\")\n",
    "    \n",
    "    def method2(self, someString):\n",
    "        print(\"My class string \" + someString)\n",
    "\n",
    "class inheritedClass(myClass):\n",
    "    \n",
    "    def method1(self):\n",
    "        myClass.method1(self)\n",
    "        print(\"this is second class\")\n",
    "    \n",
    "    def method2(self, someString):\n",
    "        \n",
    "        print(\"second method for inherited class \")\n",
    "    \n",
    "def main():\n",
    "    c = myClass()\n",
    "    c.method1()\n",
    "    c.method2(\"how are you ?\")\n",
    "    \n",
    "    c2 = inheritedClass()\n",
    "    c2.method1()\n",
    "    c2.method2(\"this is 2nd string\")\n",
    "\n",
    "main()"
   ]
  },
  {
   "cell_type": "code",
   "execution_count": null,
   "metadata": {},
   "outputs": [],
   "source": []
  }
 ],
 "metadata": {
  "kernelspec": {
   "display_name": "Python 3",
   "language": "python",
   "name": "python3"
  },
  "language_info": {
   "codemirror_mode": {
    "name": "ipython",
    "version": 3
   },
   "file_extension": ".py",
   "mimetype": "text/x-python",
   "name": "python",
   "nbconvert_exporter": "python",
   "pygments_lexer": "ipython3",
   "version": "3.7.6"
  }
 },
 "nbformat": 4,
 "nbformat_minor": 4
}
