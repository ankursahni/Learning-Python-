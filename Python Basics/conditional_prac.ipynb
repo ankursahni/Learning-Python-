{
 "cells": [
  {
   "cell_type": "code",
   "execution_count": 17,
   "metadata": {},
   "outputs": [
    {
     "name": "stdout",
     "output_type": "stream",
     "text": [
      "x is less than y\n",
      "x is less than y\n"
     ]
    }
   ],
   "source": [
    "def main():\n",
    "    x, y = 10,100\n",
    "    if (x<y):\n",
    "        st = \"x is less than y\"\n",
    "    elif(x == y):\n",
    "        st = \"both are equal\"\n",
    "    else:\n",
    "        st = \"x is greater than y\"\n",
    "    print (st)\n",
    "    st = \"x is less than y\" if(x<y) else \"x is greater than or the same as y\"\n",
    "    print(st)\n",
    "main()\n"
   ]
  },
  {
   "cell_type": "code",
   "execution_count": null,
   "metadata": {},
   "outputs": [],
   "source": [
    "\n"
   ]
  },
  {
   "cell_type": "code",
   "execution_count": null,
   "metadata": {},
   "outputs": [],
   "source": []
  }
 ],
 "metadata": {
  "kernelspec": {
   "display_name": "Python 3",
   "language": "python",
   "name": "python3"
  },
  "language_info": {
   "codemirror_mode": {
    "name": "ipython",
    "version": 3
   },
   "file_extension": ".py",
   "mimetype": "text/x-python",
   "name": "python",
   "nbconvert_exporter": "python",
   "pygments_lexer": "ipython3",
   "version": "3.7.6"
  }
 },
 "nbformat": 4,
 "nbformat_minor": 4
}
