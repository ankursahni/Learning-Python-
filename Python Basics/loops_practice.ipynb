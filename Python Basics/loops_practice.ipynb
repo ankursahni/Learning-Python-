{
 "cells": [
  {
   "cell_type": "code",
   "execution_count": 1,
   "metadata": {},
   "outputs": [],
   "source": [
    "def main():\n",
    "    x=0\n",
    "\n",
    "# define a while loop    \n",
    "#    while(x<5):\n",
    "#        print(x)\n",
    "#        x = x+1\n",
    "        \n",
    "# define a for loop\n",
    "#    for x in range(5,10):\n",
    "#        print(x)\n",
    "        \n",
    "        \n",
    "# using for loop over a collection or set\n",
    "#    days = [\"Monday\", \"Tuesday\",\"Wednesday\",\"Thursday\",\"Friday\",\"Saturday\",\"Sunday\"]\n",
    "    \n",
    "#    for d in days:\n",
    "#        print(d)\n",
    "\n",
    "# Using break and continue statements\n",
    "#   for x in range(5,10):\n",
    "#        if(x==7):\n",
    "#            break\n",
    "        \n",
    "    \n",
    "#      if(x%2 == 0):\n",
    "#           continue\n",
    "#       print(x)\n",
    "\n",
    "# using for loop over a collection or set\n",
    "    days = [\"Monday\", \"Tuesday\",\"Wednesday\",\"Thursday\",\"Friday\",\"Saturday\",\"Sunday\"]\n",
    "    \n",
    "    for i,d in enumerate(days):\n",
    "        print(i,d)"
   ]
  },
  {
   "cell_type": "code",
   "execution_count": 2,
   "metadata": {},
   "outputs": [
    {
     "name": "stdout",
     "output_type": "stream",
     "text": [
      "0 Monday\n",
      "1 Tuesday\n",
      "2 Wednesday\n",
      "3 Thursday\n",
      "4 Friday\n",
      "5 Saturday\n",
      "6 Sunday\n"
     ]
    }
   ],
   "source": [
    "main()"
   ]
  },
  {
   "cell_type": "code",
   "execution_count": null,
   "metadata": {},
   "outputs": [],
   "source": []
  }
 ],
 "metadata": {
  "kernelspec": {
   "display_name": "Python 3",
   "language": "python",
   "name": "python3"
  },
  "language_info": {
   "codemirror_mode": {
    "name": "ipython",
    "version": 3
   },
   "file_extension": ".py",
   "mimetype": "text/x-python",
   "name": "python",
   "nbconvert_exporter": "python",
   "pygments_lexer": "ipython3",
   "version": "3.7.6"
  }
 },
 "nbformat": 4,
 "nbformat_minor": 4
}
