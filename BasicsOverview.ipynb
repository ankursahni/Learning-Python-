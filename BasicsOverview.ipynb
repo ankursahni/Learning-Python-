{
 "cells": [
  {
   "cell_type": "code",
   "execution_count": null,
   "metadata": {},
   "outputs": [],
   "source": [
    "## Starting with Python"
   ]
  },
  {
   "cell_type": "code",
   "execution_count": 1,
   "metadata": {},
   "outputs": [
    {
     "name": "stdout",
     "output_type": "stream",
     "text": [
      "Hello World\n"
     ]
    }
   ],
   "source": [
    "print(\"Hello World\")"
   ]
  },
  {
   "cell_type": "code",
   "execution_count": null,
   "metadata": {},
   "outputs": [],
   "source": [
    "## Direct operations"
   ]
  },
  {
   "cell_type": "code",
   "execution_count": 18,
   "metadata": {},
   "outputs": [
    {
     "data": {
      "text/plain": [
       "100"
      ]
     },
     "execution_count": 18,
     "metadata": {},
     "output_type": "execute_result"
    }
   ],
   "source": [
    "10 * 10"
   ]
  },
  {
   "cell_type": "code",
   "execution_count": 20,
   "metadata": {},
   "outputs": [
    {
     "data": {
      "text/plain": [
       "'AnkurAnkurAnkurAnkurAnkurAnkurAnkurAnkurAnkurAnkur'"
      ]
     },
     "execution_count": 20,
     "metadata": {},
     "output_type": "execute_result"
    }
   ],
   "source": [
    "10 * 'Ankur'"
   ]
  },
  {
   "cell_type": "code",
   "execution_count": 22,
   "metadata": {},
   "outputs": [
    {
     "data": {
      "text/plain": [
       "5.4"
      ]
     },
     "execution_count": 22,
     "metadata": {},
     "output_type": "execute_result"
    }
   ],
   "source": [
    "54/10"
   ]
  },
  {
   "cell_type": "code",
   "execution_count": null,
   "metadata": {},
   "outputs": [],
   "source": [
    "# Using type function (very useful in python)"
   ]
  },
  {
   "cell_type": "code",
   "execution_count": 6,
   "metadata": {},
   "outputs": [
    {
     "data": {
      "text/plain": [
       "int"
      ]
     },
     "execution_count": 6,
     "metadata": {},
     "output_type": "execute_result"
    }
   ],
   "source": [
    "x = 27\n",
    "type(x)"
   ]
  },
  {
   "cell_type": "code",
   "execution_count": 11,
   "metadata": {},
   "outputs": [
    {
     "data": {
      "text/plain": [
       "float"
      ]
     },
     "execution_count": 11,
     "metadata": {},
     "output_type": "execute_result"
    }
   ],
   "source": [
    "x = 34.2\n",
    "type(x)"
   ]
  },
  {
   "cell_type": "code",
   "execution_count": null,
   "metadata": {},
   "outputs": [],
   "source": [
    "# Note : Anything in single qoute(' ') or double qoute(\" \") is referred to as string"
   ]
  },
  {
   "cell_type": "code",
   "execution_count": 13,
   "metadata": {},
   "outputs": [
    {
     "data": {
      "text/plain": [
       "str"
      ]
     },
     "execution_count": 13,
     "metadata": {},
     "output_type": "execute_result"
    }
   ],
   "source": [
    "x = 'Hi There'\n",
    "type(x)"
   ]
  },
  {
   "cell_type": "code",
   "execution_count": 14,
   "metadata": {},
   "outputs": [
    {
     "data": {
      "text/plain": [
       "str"
      ]
     },
     "execution_count": 14,
     "metadata": {},
     "output_type": "execute_result"
    }
   ],
   "source": [
    "x = \"Hi There\"\n",
    "type(x)"
   ]
  },
  {
   "cell_type": "code",
   "execution_count": 16,
   "metadata": {},
   "outputs": [
    {
     "data": {
      "text/plain": [
       "bool"
      ]
     },
     "execution_count": 16,
     "metadata": {},
     "output_type": "execute_result"
    }
   ],
   "source": [
    "x = False # or it can be True\n",
    "type(x)"
   ]
  },
  {
   "cell_type": "code",
   "execution_count": null,
   "metadata": {},
   "outputs": [],
   "source": [
    "# Using Function"
   ]
  },
  {
   "cell_type": "code",
   "execution_count": 13,
   "metadata": {},
   "outputs": [
    {
     "name": "stdout",
     "output_type": "stream",
     "text": [
      "Hello\n"
     ]
    }
   ],
   "source": [
    "def printStatement(a):\n",
    "    return a\n",
    "result = printStatement(\"Hello\")\n",
    "\n",
    "print(result)"
   ]
  },
  {
   "cell_type": "code",
   "execution_count": 15,
   "metadata": {},
   "outputs": [
    {
     "name": "stdout",
     "output_type": "stream",
     "text": [
      "25\n"
     ]
    }
   ],
   "source": [
    "def square(x):\n",
    "    return x*x\n",
    "result=square(5)\n",
    "\n",
    "print(result)"
   ]
  },
  {
   "cell_type": "code",
   "execution_count": 16,
   "metadata": {},
   "outputs": [
    {
     "name": "stdout",
     "output_type": "stream",
     "text": [
      "625\n"
     ]
    }
   ],
   "source": [
    "out2 = square(result)\n",
    "print(out2)"
   ]
  },
  {
   "cell_type": "code",
   "execution_count": null,
   "metadata": {},
   "outputs": [],
   "source": [
    "# Using two Inputs"
   ]
  },
  {
   "cell_type": "code",
   "execution_count": 2,
   "metadata": {},
   "outputs": [
    {
     "name": "stdout",
     "output_type": "stream",
     "text": [
      "685\n"
     ]
    }
   ],
   "source": [
    "def squareSum(x,y):\n",
    "    sq1 = x*x\n",
    "    sq2 = y*y\n",
    "    return sq1 + sq2\n",
    "\n",
    "result = squareSum(18,19)\n",
    "print(result)"
   ]
  },
  {
   "cell_type": "code",
   "execution_count": null,
   "metadata": {},
   "outputs": [],
   "source": [
    "# Using built-in input() Function "
   ]
  },
  {
   "cell_type": "code",
   "execution_count": null,
   "metadata": {},
   "outputs": [],
   "source": [
    "# Note : input() function takes only string type and return string type you cannot perform arthematic operation on strings \n",
    "# to do that i use int type as input shown below"
   ]
  },
  {
   "cell_type": "code",
   "execution_count": 5,
   "metadata": {},
   "outputs": [
    {
     "name": "stdout",
     "output_type": "stream",
     "text": [
      "Enter First Value :6\n",
      "Enter Second Value :5\n",
      "Enter Third Value :4\n"
     ]
    },
    {
     "data": {
      "text/plain": [
       "277"
      ]
     },
     "execution_count": 5,
     "metadata": {},
     "output_type": "execute_result"
    }
   ],
   "source": [
    "x = int(input(\"Enter First Value :\"))    ## anything written in input(\" \") function in single or double qoute is stored..  \n",
    "y = int(input(\"Enter Second Value :\"))   ## ..as String also anything before you enter input like enter value: is know as prompt\n",
    "z = int(input(\"Enter Third Value :\"))\n",
    "\n",
    "def cuberootSub():\n",
    "    \n",
    "    cb1 = x*x*x\n",
    "    cb2 = y*y*y\n",
    "    cb3 = z*z*z\n",
    "    return (cb1+cb2) - cb3\n",
    "\n",
    "cuberootSub()"
   ]
  },
  {
   "cell_type": "code",
   "execution_count": null,
   "metadata": {},
   "outputs": [],
   "source": [
    "# Starting with Modules or Packages"
   ]
  },
  {
   "cell_type": "code",
   "execution_count": 5,
   "metadata": {},
   "outputs": [
    {
     "name": "stdout",
     "output_type": "stream",
     "text": [
      "     April 2020\n",
      "Mo Tu We Th Fr Sa Su\n",
      "       1  2  3  4  5\n",
      " 6  7  8  9 10 11 12\n",
      "13 14 15 16 17 18 19\n",
      "20 21 22 23 24 25 26\n",
      "27 28 29 30\n",
      "\n"
     ]
    }
   ],
   "source": [
    "import calendar\n",
    "cal = calendar.month(2020, 4)\n",
    "print(cal)"
   ]
  },
  {
   "cell_type": "code",
   "execution_count": 10,
   "metadata": {},
   "outputs": [
    {
     "name": "stdout",
     "output_type": "stream",
     "text": [
      "9.0\n"
     ]
    }
   ],
   "source": [
    "import math\n",
    "\n",
    "x = math.sqrt(81)\n",
    "print(x)"
   ]
  },
  {
   "cell_type": "code",
   "execution_count": 11,
   "metadata": {},
   "outputs": [
    {
     "name": "stdout",
     "output_type": "stream",
     "text": [
      "120\n"
     ]
    }
   ],
   "source": [
    "y = math.factorial(5)\n",
    "print(y)"
   ]
  },
  {
   "cell_type": "code",
   "execution_count": 17,
   "metadata": {},
   "outputs": [
    {
     "name": "stdout",
     "output_type": "stream",
     "text": [
      "59049.0\n"
     ]
    }
   ],
   "source": [
    "z = math.pow(3,10)\n",
    "print(z)"
   ]
  },
  {
   "cell_type": "code",
   "execution_count": 21,
   "metadata": {},
   "outputs": [
    {
     "name": "stdout",
     "output_type": "stream",
     "text": [
      "20\n"
     ]
    }
   ],
   "source": [
    "import random # use to fetch random items from list, sequences or numbers\n",
    "\n",
    "x = random.randint(1,23)\n",
    "print(x)"
   ]
  },
  {
   "cell_type": "code",
   "execution_count": 26,
   "metadata": {},
   "outputs": [
    {
     "name": "stdout",
     "output_type": "stream",
     "text": [
      "Ankur\n"
     ]
    }
   ],
   "source": [
    "# For list in sequence we can use choice() method- built in method in random module \n",
    "\n",
    "list1 = [\"Ankur\",\"Raghav\",\"Piyush\",\"Rahul\",\"Arjit\",\"Manjot\",\"Ajaypal\",\"Rashpal\",\"Krutarth\",\"Kshitij\",\"Anuj\"]\n",
    "\n",
    "choicel1 = random.choice(list1)\n",
    "print(choicel1)"
   ]
  },
  {
   "cell_type": "code",
   "execution_count": 33,
   "metadata": {},
   "outputs": [
    {
     "name": "stdout",
     "output_type": "stream",
     "text": [
      "['Ankur', 'Raghav', 'Piyush', 'Rahul', 'Arjit', 'Manjot', 'Ajaypal', 'Rashpal', 'Krutarth', 'Kshitij', 'Anuj']\n"
     ]
    }
   ],
   "source": [
    "# re-arrangment or shuffling can be done using random module\n",
    "\n",
    "list1 = [\"Ankur\",\"Raghav\",\"Piyush\",\"Rahul\",\"Arjit\",\"Manjot\",\"Ajaypal\",\"Rashpal\",\"Krutarth\",\"Kshitij\",\"Anuj\"]\n",
    "print(list1)"
   ]
  },
  {
   "cell_type": "code",
   "execution_count": 38,
   "metadata": {},
   "outputs": [],
   "source": [
    "random.shuffle(list1)"
   ]
  },
  {
   "cell_type": "code",
   "execution_count": 39,
   "metadata": {},
   "outputs": [
    {
     "name": "stdout",
     "output_type": "stream",
     "text": [
      "['Ajaypal', 'Kshitij', 'Rahul', 'Rashpal', 'Raghav', 'Manjot', 'Ankur', 'Krutarth', 'Anuj', 'Arjit', 'Piyush']\n"
     ]
    }
   ],
   "source": [
    "print(list1)"
   ]
  },
  {
   "cell_type": "code",
   "execution_count": null,
   "metadata": {},
   "outputs": [],
   "source": [
    "# Getting Familiar with Lists (re enclosed in square brackets)"
   ]
  },
  {
   "cell_type": "code",
   "execution_count": 47,
   "metadata": {},
   "outputs": [],
   "source": [
    "list1 = [25,50,100,200,400,800]\n",
    "list2 = ['apple', True , 'cat', 44.56, 'elephant', 34 , 'good'] #with various different datatypes"
   ]
  },
  {
   "cell_type": "code",
   "execution_count": 48,
   "metadata": {},
   "outputs": [
    {
     "name": "stdout",
     "output_type": "stream",
     "text": [
      "[25, 50, 100, 200, 400, 800]\n",
      "['apple', True, 'cat', 44.56, 'elephant', 34, 'good']\n"
     ]
    }
   ],
   "source": [
    "print(list1)\n",
    "print(list2)"
   ]
  },
  {
   "cell_type": "code",
   "execution_count": 49,
   "metadata": {},
   "outputs": [
    {
     "name": "stdout",
     "output_type": "stream",
     "text": [
      "200\n",
      "34\n"
     ]
    }
   ],
   "source": [
    "# fetching item of particular index\n",
    "\n",
    "print(list1[3])\n",
    "print(list2[5])"
   ]
  },
  {
   "cell_type": "code",
   "execution_count": 50,
   "metadata": {},
   "outputs": [],
   "source": [
    "#replacing values in list at particular index\n",
    "\n",
    "list2[4] = 'eye'"
   ]
  },
  {
   "cell_type": "code",
   "execution_count": 51,
   "metadata": {},
   "outputs": [
    {
     "name": "stdout",
     "output_type": "stream",
     "text": [
      "['apple', True, 'cat', 44.56, 'eye', 34, 'good']\n"
     ]
    }
   ],
   "source": [
    "print(list2)"
   ]
  },
  {
   "cell_type": "code",
   "execution_count": 60,
   "metadata": {},
   "outputs": [
    {
     "name": "stdout",
     "output_type": "stream",
     "text": [
      "('Ankur', 'Sahni', 'Brampton', 'Lambton College', 'abcde@gmail.com', '41x-xxx-xxxx', 'CCBT')\n",
      "('Anuj', 'Kalsi', 'Peterbrough', 'Fleming College', 'nopcde@gmail.com', '42x-xxx-xxxx', 'Mobile Development')\n"
     ]
    }
   ],
   "source": [
    "# Tuple are usedif you don't want to tamper aur alter the information throughout the code (are enclosed with parantehesis())\n",
    "\n",
    "student1 = ('Ankur', 'Sahni', 'Brampton', 'Lambton College', 'abcde@gmail.com', '41x-xxx-xxxx', 'CCBT')\n",
    "student2 = ('Ajaypal', 'Singh', 'Brampton', 'Lambton College', 'abcdefghi@gmail.com', '40x-xxx-xxxx', 'SCMT')\n",
    "student3 = ('Anuj', 'Kalsi', 'Peterbrough', 'Fleming College', 'nopcde@gmail.com', '42x-xxx-xxxx', 'Mobile Development')\n",
    "\n",
    "print(student1)\n",
    "print(student3)"
   ]
  },
  {
   "cell_type": "code",
   "execution_count": 55,
   "metadata": {},
   "outputs": [
    {
     "data": {
      "text/plain": [
       "tuple"
      ]
     },
     "execution_count": 55,
     "metadata": {},
     "output_type": "execute_result"
    }
   ],
   "source": [
    "type(student2)"
   ]
  },
  {
   "cell_type": "code",
   "execution_count": 58,
   "metadata": {},
   "outputs": [
    {
     "name": "stdout",
     "output_type": "stream",
     "text": [
      "Mobile Development\n"
     ]
    }
   ],
   "source": [
    "# Fetching item from tuple\n",
    "\n",
    "print(student3[6])"
   ]
  },
  {
   "cell_type": "code",
   "execution_count": 59,
   "metadata": {},
   "outputs": [
    {
     "ename": "TypeError",
     "evalue": "'tuple' object does not support item assignment",
     "output_type": "error",
     "traceback": [
      "\u001b[1;31m---------------------------------------------------------------------------\u001b[0m",
      "\u001b[1;31mTypeError\u001b[0m                                 Traceback (most recent call last)",
      "\u001b[1;32m<ipython-input-59-6d046d99bb81>\u001b[0m in \u001b[0;36m<module>\u001b[1;34m\u001b[0m\n\u001b[0;32m      1\u001b[0m \u001b[1;31m#replacing values in tuple at particular index (practically not possible)\u001b[0m\u001b[1;33m\u001b[0m\u001b[1;33m\u001b[0m\u001b[1;33m\u001b[0m\u001b[0m\n\u001b[0;32m      2\u001b[0m \u001b[1;33m\u001b[0m\u001b[0m\n\u001b[1;32m----> 3\u001b[1;33m \u001b[0mstudent3\u001b[0m\u001b[1;33m[\u001b[0m\u001b[1;36m6\u001b[0m\u001b[1;33m]\u001b[0m \u001b[1;33m=\u001b[0m \u001b[1;34m\"CCBT\"\u001b[0m\u001b[1;33m\u001b[0m\u001b[1;33m\u001b[0m\u001b[0m\n\u001b[0m\u001b[0;32m      4\u001b[0m \u001b[0mprint\u001b[0m\u001b[1;33m(\u001b[0m\u001b[0mstudent3\u001b[0m\u001b[1;33m)\u001b[0m\u001b[1;33m\u001b[0m\u001b[1;33m\u001b[0m\u001b[0m\n",
      "\u001b[1;31mTypeError\u001b[0m: 'tuple' object does not support item assignment"
     ]
    }
   ],
   "source": [
    "#replacing values in tuple at particular index (practically not possible)\n",
    "\n",
    "student3[6] = \"CCBT\"\n",
    "print(student3)"
   ]
  },
  {
   "cell_type": "code",
   "execution_count": null,
   "metadata": {},
   "outputs": [],
   "source": [
    "# Conditional Statements \n",
    "# if-else"
   ]
  },
  {
   "cell_type": "code",
   "execution_count": 61,
   "metadata": {},
   "outputs": [
    {
     "name": "stdout",
     "output_type": "stream",
     "text": [
      "Enter a value between -15 and 15 : 3\n",
      "You chose a positive number\n"
     ]
    }
   ],
   "source": [
    "n = int(input(\"Enter a value between -15 and 15 : \"))\n",
    "\n",
    "if n < 0:\n",
    "    print('You chose a negative number')\n",
    "else:\n",
    "    print('You chose a positive number')"
   ]
  },
  {
   "cell_type": "code",
   "execution_count": 71,
   "metadata": {},
   "outputs": [
    {
     "name": "stdout",
     "output_type": "stream",
     "text": [
      "Enter the First Value : 15\n",
      "Enter the Second Value : 14\n"
     ]
    },
    {
     "data": {
      "text/plain": [
       "15"
      ]
     },
     "execution_count": 71,
     "metadata": {},
     "output_type": "execute_result"
    }
   ],
   "source": [
    "# With use of function\n",
    "\n",
    "def largerNumb():\n",
    "    x = int(input(\"Enter the First Value : \"))\n",
    "    y = int(input(\"Enter the Second Value : \"))\n",
    "    \n",
    "    if x>y:\n",
    "        return x\n",
    "        # print(str(x) + \"is greater than\" + str(y))\n",
    "    else:\n",
    "        return y\n",
    "        # print(str(y) + \"is greater than\" + str(x))\n",
    "\n",
    "largerNumb()"
   ]
  },
  {
   "cell_type": "code",
   "execution_count": 72,
   "metadata": {},
   "outputs": [
    {
     "name": "stdout",
     "output_type": "stream",
     "text": [
      "Enter the First Value : -15\n",
      "Enter the Second Value : -11\n"
     ]
    },
    {
     "data": {
      "text/plain": [
       "-11"
      ]
     },
     "execution_count": 72,
     "metadata": {},
     "output_type": "execute_result"
    }
   ],
   "source": [
    "# testing with negatives\n",
    "\n",
    "largerNumb()"
   ]
  },
  {
   "cell_type": "code",
   "execution_count": null,
   "metadata": {},
   "outputs": [],
   "source": [
    "# if-elif"
   ]
  },
  {
   "cell_type": "code",
   "execution_count": 76,
   "metadata": {},
   "outputs": [
    {
     "name": "stdout",
     "output_type": "stream",
     "text": [
      "Enter a Number :15\n",
      "You Reached Highest Level, Congrats!!\n"
     ]
    }
   ],
   "source": [
    "x = int(input(\"Enter a Number :\"))\n",
    "\n",
    "if x<5:\n",
    "    print(\"You Reached level 1\")\n",
    "\n",
    "elif x<10:\n",
    "    print(\"You Reached level 2\")\n",
    "\n",
    "elif x<15:\n",
    "    print(\"You Reached level 3\")\n",
    "    \n",
    "elif x<20:\n",
    "    print(\"You Reached Highest Level, Congrats!!\")"
   ]
  },
  {
   "cell_type": "code",
   "execution_count": null,
   "metadata": {},
   "outputs": [],
   "source": [
    "# if-elif-else\n",
    "# calculation absolute value of number entered"
   ]
  },
  {
   "cell_type": "code",
   "execution_count": 86,
   "metadata": {},
   "outputs": [
    {
     "name": "stdout",
     "output_type": "stream",
     "text": [
      "Enter a Number : -8\n"
     ]
    },
    {
     "data": {
      "text/plain": [
       "8"
      ]
     },
     "execution_count": 86,
     "metadata": {},
     "output_type": "execute_result"
    }
   ],
   "source": [
    "def absolute_val():\n",
    "    x = int(input(\"Enter a Number : \"))\n",
    "    \n",
    "    if x<0:\n",
    "        return -x\n",
    "    elif x==0:\n",
    "        return x\n",
    "    else:\n",
    "        return x\n",
    "absolute_val()"
   ]
  },
  {
   "cell_type": "code",
   "execution_count": null,
   "metadata": {},
   "outputs": [],
   "source": [
    "# Iteration in Python"
   ]
  },
  {
   "cell_type": "code",
   "execution_count": 92,
   "metadata": {},
   "outputs": [
    {
     "name": "stdout",
     "output_type": "stream",
     "text": [
      "Enter Movie Name  : The Shutter Island\n",
      "5\n"
     ]
    }
   ],
   "source": [
    "movie = input(\"Enter Movie Name  : \")\n",
    "\n",
    "alphabet = ['a', 'e', 't',]\n",
    "count=0\n",
    "\n",
    "for ch in movie:\n",
    "    if ch in alphabet:\n",
    "        count = count + 1\n",
    "\n",
    "print(count)"
   ]
  },
  {
   "cell_type": "code",
   "execution_count": null,
   "metadata": {},
   "outputs": [],
   "source": [
    "# For loop\n",
    "\n",
    "for i in range(12):\n",
    "    print(i)"
   ]
  },
  {
   "cell_type": "code",
   "execution_count": 101,
   "metadata": {},
   "outputs": [
    {
     "name": "stdout",
     "output_type": "stream",
     "text": [
      "0\n",
      "2\n",
      "4\n",
      "6\n",
      "8\n",
      "10\n",
      "12\n",
      "14\n",
      "16\n",
      "18\n"
     ]
    }
   ],
   "source": [
    "# Printing even numbers\n",
    "\n",
    "for i in range(0,20,2):\n",
    "    print(i)"
   ]
  },
  {
   "cell_type": "code",
   "execution_count": 104,
   "metadata": {},
   "outputs": [
    {
     "name": "stdout",
     "output_type": "stream",
     "text": [
      "Ankur\n",
      "Raghav\n",
      "Piyush\n",
      "Rahul\n",
      "Arjit\n",
      "Manjot\n",
      "Ajaypal\n",
      "Rashpal\n",
      "Krutarth\n",
      "Kshitij\n",
      "Anuj\n"
     ]
    },
    {
     "data": {
      "text/plain": [
       "11"
      ]
     },
     "execution_count": 104,
     "metadata": {},
     "output_type": "execute_result"
    }
   ],
   "source": [
    "list1 = [\"Ankur\",\"Raghav\",\"Piyush\",\"Rahul\",\"Arjit\",\"Manjot\",\"Ajaypal\",\"Rashpal\",\"Krutarth\",\"Kshitij\",\"Anuj\"]\n",
    "\n",
    "for ch in list1:\n",
    "    print(ch)\n",
    "\n",
    "len(list1) # len() function is used to determine the length of sequence or list"
   ]
  },
  {
   "cell_type": "code",
   "execution_count": 11,
   "metadata": {},
   "outputs": [
    {
     "name": "stdout",
     "output_type": "stream",
     "text": [
      "Ankur\n",
      "Raghav\n",
      "Piyush\n",
      "Rahul\n",
      "Arjit\n",
      "Manjot\n",
      "Ajaypal\n",
      "Rashpal\n",
      "Krutarth\n",
      "Kshitij\n",
      "Anuj\n"
     ]
    }
   ],
   "source": [
    "# While Loop\n",
    "\n",
    "listA = [\"Ankur\",\"Raghav\",\"Piyush\",\"Rahul\",\"Arjit\",\"Manjot\",\"Ajaypal\",\"Rashpal\",\"Krutarth\",\"Kshitij\",\"Anuj\"]\n",
    "ch = 0\n",
    "\n",
    "while ch < len(listA):\n",
    "    print(listA[ch])\n",
    "    ch = ch+1"
   ]
  },
  {
   "cell_type": "code",
   "execution_count": 22,
   "metadata": {},
   "outputs": [
    {
     "data": {
      "text/plain": [
       "120"
      ]
     },
     "execution_count": 22,
     "metadata": {},
     "output_type": "execute_result"
    }
   ],
   "source": [
    "# recursion Examples\n",
    "#1 factorial\n",
    "\n",
    "def factorial(n):\n",
    "    if n==1:\n",
    "        return 1\n",
    "    else:\n",
    "        return n * factorial(n-1)\n",
    "factorial(5)"
   ]
  },
  {
   "cell_type": "code",
   "execution_count": 25,
   "metadata": {},
   "outputs": [
    {
     "data": {
      "text/plain": [
       "8"
      ]
     },
     "execution_count": 25,
     "metadata": {},
     "output_type": "execute_result"
    }
   ],
   "source": [
    "# 2 Sum of digits of a number \n",
    "\n",
    "#n = int(input(\"Enter a Number : \"))\n",
    "def sum_digits(n):\n",
    "    if n<10:\n",
    "        return n\n",
    "    else:\n",
    "        x = n // 10\n",
    "        y = n % 10\n",
    "        return sum_digits(x)+y\n",
    "\n",
    "sum_digits(125)"
   ]
  },
  {
   "cell_type": "code",
   "execution_count": 19,
   "metadata": {},
   "outputs": [
    {
     "data": {
      "text/plain": [
       "233"
      ]
     },
     "execution_count": 19,
     "metadata": {},
     "output_type": "execute_result"
    }
   ],
   "source": [
    "#3 Fibonaaci Series\n",
    "\n",
    "def fib(n):\n",
    "    if n == 1:\n",
    "        return 0\n",
    "    elif n == 2:\n",
    "        return 1\n",
    "    else:\n",
    "        return fib(n-1) + fib(n-2)\n",
    "fib(14)"
   ]
  },
  {
   "cell_type": "code",
   "execution_count": null,
   "metadata": {},
   "outputs": [],
   "source": []
  }
 ],
 "metadata": {
  "kernelspec": {
   "display_name": "Python 3",
   "language": "python",
   "name": "python3"
  },
  "language_info": {
   "codemirror_mode": {
    "name": "ipython",
    "version": 3
   },
   "file_extension": ".py",
   "mimetype": "text/x-python",
   "name": "python",
   "nbconvert_exporter": "python",
   "pygments_lexer": "ipython3",
   "version": "3.7.6"
  }
 },
 "nbformat": 4,
 "nbformat_minor": 4
}
